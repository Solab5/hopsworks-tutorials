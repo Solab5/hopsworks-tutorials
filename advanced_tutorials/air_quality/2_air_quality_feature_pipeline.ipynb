{
 "cells": [
  {
   "cell_type": "markdown",
   "id": "f16a717d",
   "metadata": {},
   "source": [
    "# <span style=\"font-width:bold; font-size: 3rem; color:#1EB182;\"><img src=\"../../images/icon102.png\" width=\"38px\"></img> **Hopsworks Feature Store** </span><span style=\"font-width:bold; font-size: 3rem; color:#333;\">- Part 02: Feature Pipeline</span>\n",
    "\n",
    "## 🗒️ This notebook is divided into the following sections:\n",
    "\n",
    "1. Fetch Feature Groups. \n",
    "2. Parse Data.\n",
    "3. Feature Group Insertion."
   ]
  },
  {
   "cell_type": "markdown",
   "id": "37facd6e",
   "metadata": {},
   "source": [
    "### <span style='color:#ff5f27'> 📝 Imports"
   ]
  },
  {
   "cell_type": "code",
   "execution_count": 1,
   "id": "77d2fbe5",
   "metadata": {},
   "outputs": [],
   "source": [
    "import datetime\n",
    "import time\n",
    "import pandas as pd\n",
    "import json\n",
    "\n",
    "from features import air_quality\n",
    "from functions.parse_air_quality import get_aqi_data_from_open_meteo\n",
    "from functions.parse_weather import get_weather_data_from_open_meteo\n",
    "from functions.common_functions import *\n",
    "\n",
    "\n",
    "import warnings\n",
    "warnings.filterwarnings(\"ignore\")"
   ]
  },
  {
   "cell_type": "code",
   "execution_count": 2,
   "id": "c14c97e6",
   "metadata": {
    "tags": []
   },
   "outputs": [],
   "source": [
    "# Opening the 'target_cities.json' file in read mode using the 'with' statement\n",
    "with open('target_cities.json') as json_file:\n",
    "    # Loading the JSON data from the file and storing it in the 'target_cities' variable\n",
    "    target_cities = json.load(json_file)"
   ]
  },
  {
   "cell_type": "code",
   "execution_count": 3,
   "id": "5b67e039",
   "metadata": {
    "tags": []
   },
   "outputs": [
    {
     "data": {
      "text/plain": [
       "(datetime.date(2024, 3, 21), '2024-03-21')"
      ]
     },
     "execution_count": 3,
     "metadata": {},
     "output_type": "execute_result"
    }
   ],
   "source": [
    "# Getting the current date\n",
    "today = datetime.date.today()\n",
    "\n",
    "# Displaying the current date and its string representation\n",
    "today, str(today)"
   ]
  },
  {
   "cell_type": "markdown",
   "id": "0c5ebe2a",
   "metadata": {},
   "source": [
    "### <span style=\"color:#ff5f27;\"> 🔮 Connecting to Hopsworks Feature Store </span>"
   ]
  },
  {
   "cell_type": "code",
   "execution_count": 4,
   "id": "730eb857",
   "metadata": {},
   "outputs": [
    {
     "name": "stdout",
     "output_type": "stream",
     "text": [
      "Connected. Call `.close()` to terminate connection gracefully.\n",
      "\n",
      "Multiple projects found. \n",
      "\n",
      "\t (1) Iriss_solab\n",
      "\t (2) soll\n"
     ]
    },
    {
     "name": "stdin",
     "output_type": "stream",
     "text": [
      "\n",
      "Enter project to access:  2\n"
     ]
    },
    {
     "name": "stdout",
     "output_type": "stream",
     "text": [
      "\n",
      "Logged in to project, explore it here https://c.app.hopsworks.ai:443/p/22689\n",
      "Connected. Call `.close()` to terminate connection gracefully.\n"
     ]
    }
   ],
   "source": [
    "import hopsworks\n",
    "\n",
    "project = hopsworks.login()\n",
    "fs = project.get_feature_store() "
   ]
  },
  {
   "cell_type": "code",
   "execution_count": 5,
   "id": "ddd400ad",
   "metadata": {},
   "outputs": [],
   "source": [
    "# Retrieve feature groups\n",
    "air_quality_fg = fs.get_feature_group(\n",
    "    name='air_quality',\n",
    "    version=1,\n",
    ")\n",
    "weather_fg = fs.get_feature_group(\n",
    "    name='weather',\n",
    "    version=1,\n",
    ")"
   ]
  },
  {
   "cell_type": "markdown",
   "id": "f992009d",
   "metadata": {},
   "source": [
    "## <span style='color:#ff5f27'> 🌫 Filling gaps in Air Quality data (PM2.5)</span>"
   ]
  },
  {
   "cell_type": "code",
   "execution_count": 6,
   "id": "37058d7f",
   "metadata": {
    "tags": []
   },
   "outputs": [
    {
     "name": "stderr",
     "output_type": "stream",
     "text": [
      "DeprecationWarning: ssl.PROTOCOL_TLS is deprecated\n"
     ]
    },
    {
     "name": "stdout",
     "output_type": "stream",
     "text": [
      "Finished: Reading data from Hopsworks, using Hive (297.64s) \n"
     ]
    },
    {
     "name": "stderr",
     "output_type": "stream",
     "text": [
      "DeprecationWarning: ssl.PROTOCOL_TLS is deprecated\n"
     ]
    },
    {
     "name": "stdout",
     "output_type": "stream",
     "text": [
      "Finished: Reading data from Hopsworks, using Hive (56.75s) \n"
     ]
    }
   ],
   "source": [
    "# Read data from feature groups\n",
    "df_air_quality = air_quality_fg.read()\n",
    "df_weather = weather_fg.read()"
   ]
  },
  {
   "cell_type": "code",
   "execution_count": 25,
   "id": "7d84943e-8b09-493b-b8c9-0e78b949a5fc",
   "metadata": {
    "tags": []
   },
   "outputs": [],
   "source": [
    "# Extracting the \"date\" and \"city_name\" columns from the 'df_air_quality' DataFrame\n",
    "# Grouping the data by \"city_name\" and finding the maximum date for each city\n",
    "last_dates_aq = df_air_quality[[\"date\", \"city_name\"]].groupby(\"city_name\").max()\n",
    "\n",
    "# Converting the date values to string format for consistency\n",
    "last_dates_aq.date = last_dates_aq.date.astype(str)\n",
    "\n",
    "# Creating a dictionary with city names as keys and their corresponding last updated date as values\n",
    "last_dates_aq = last_dates_aq.to_dict()[\"date\"]"
   ]
  },
  {
   "cell_type": "code",
   "execution_count": 28,
   "id": "2ceb92a0-2f08-45c1-97df-769ae7cdedfd",
   "metadata": {
    "tags": []
   },
   "outputs": [
    {
     "name": "stdout",
     "output_type": "stream",
     "text": [
      "⛳️ Last update for Paris: 2023-04-11\n",
      "⛳️ Last update for Columbus: 2022-12-31\n"
     ]
    }
   ],
   "source": [
    "# Accessing the last updated date for the city of Paris\n",
    "paris_last_date = last_dates_aq.get(\"Paris\", \"Not available\")\n",
    "\n",
    "# Accessing the last updated date for the city of Columbus\n",
    "columbus_last_date = last_dates_aq.get(\"Columbus\", \"Not available\")\n",
    "\n",
    "# Printing the results\n",
    "print(\"⛳️ Last update for Paris:\", paris_last_date)\n",
    "print(\"⛳️ Last update for Columbus:\", columbus_last_date)"
   ]
  },
  {
   "cell_type": "code",
   "execution_count": 30,
   "id": "7ee8977d-1def-4ed0-ba10-5f8823b5f062",
   "metadata": {},
   "outputs": [
    {
     "data": {
      "text/plain": [
       "{'Albuquerque': '2022-12-31',\n",
       " 'Amsterdam': '2023-04-11',\n",
       " 'Athina': '2023-04-11',\n",
       " 'Atlanta': '2022-12-31',\n",
       " 'Bellevue-SE 12th St': '2023-04-03',\n",
       " 'Berlin': '2023-04-11',\n",
       " 'Chicago': '2022-12-31',\n",
       " 'Columbus': '2022-12-31',\n",
       " 'DARRINGTON - FIR ST (Darrington High School)': '2023-04-03',\n",
       " 'Dallas': '2022-12-31',\n",
       " 'Denver': '2022-12-31',\n",
       " 'Gdansk': '2023-04-11',\n",
       " 'Houston': '2022-12-31',\n",
       " 'KENT - JAMES & CENTRAL': '2023-04-03',\n",
       " 'Kraków': '2023-04-11',\n",
       " 'LAKE FOREST PARK TOWNE CENTER': '2023-04-03',\n",
       " 'London': '2023-04-11',\n",
       " 'Los Angeles': '2022-12-31',\n",
       " 'MARYSVILLE - 7TH AVE (Marysville Junior High)': '2023-04-03',\n",
       " 'Madrid': '2023-04-11',\n",
       " 'Marseille': '2023-04-11',\n",
       " 'Milano': '2023-04-11',\n",
       " 'München': '2023-04-11',\n",
       " 'NORTH BEND - NORTH BEND WAY': '2023-04-03',\n",
       " 'Napoli': '2023-04-11',\n",
       " 'New York': '2022-12-31',\n",
       " 'Paris': '2023-04-11',\n",
       " 'Phoenix-Mesa': '2022-12-31',\n",
       " 'SEATTLE - BEACON HILL': '2023-04-03',\n",
       " 'SEATTLE - DUWAMISH': '2023-04-03',\n",
       " 'SEATTLE - SOUTH PARK #2': '2023-04-03',\n",
       " 'Salt Lake City': '2022-12-31',\n",
       " 'San Francisco': '2022-12-31',\n",
       " 'Seattle-10th & Weller': '2023-04-03',\n",
       " 'Sevilla': '2023-04-11',\n",
       " 'Stockholm': '2023-04-11',\n",
       " 'TACOMA - ALEXANDER AVE': '2023-04-02',\n",
       " 'TACOMA - L STREET': '2023-04-03',\n",
       " 'Tacoma-S 36th St': '2023-04-03',\n",
       " 'Tallinn': '2023-04-11',\n",
       " 'Tampa': '2022-12-31',\n",
       " 'Tukwila Allentown': '2023-04-03',\n",
       " 'Tulalip-Totem Beach Rd': '2023-04-03',\n",
       " 'Varna': '2022-08-02',\n",
       " 'Wien': '2023-04-11'}"
      ]
     },
     "execution_count": 30,
     "metadata": {},
     "output_type": "execute_result"
    }
   ],
   "source": [
    "last_dates_aq"
   ]
  },
  {
   "cell_type": "code",
   "execution_count": 34,
   "id": "0bb84db2-a87b-4d38-b87e-d61509dace1e",
   "metadata": {},
   "outputs": [
    {
     "data": {
      "text/plain": [
       "(datetime.date(2024, 3, 21), datetime.timedelta(days=28))"
      ]
     },
     "execution_count": 34,
     "metadata": {},
     "output_type": "execute_result"
    }
   ],
   "source": [
    "today, datetime.timedelta(days=28)"
   ]
  },
  {
   "cell_type": "code",
   "execution_count": 32,
   "id": "989e7711-e5d1-42a7-bb2e-3ef3e9d66d6a",
   "metadata": {},
   "outputs": [
    {
     "data": {
      "text/plain": [
       "datetime.date(2022, 8, 2)"
      ]
     },
     "execution_count": 32,
     "metadata": {},
     "output_type": "execute_result"
    }
   ],
   "source": [
    "datetime.datetime.strptime('2022-08-02', '%Y-%m-%d').date()"
   ]
  },
  {
   "cell_type": "code",
   "execution_count": 35,
   "id": "f658d581",
   "metadata": {},
   "outputs": [],
   "source": [
    "for city, date in last_dates_aq.items():\n",
    "    city_last_date = datetime.datetime.strptime(date, \"%Y-%m-%d\").date()\n",
    "    if (today - city_last_date) <= datetime.timedelta(days=28):\n",
    "        last_dates_aq[city] = (city_last_date - datetime.timedelta(days=28)).strftime(\"%Y-%m-%d\")"
   ]
  },
  {
   "cell_type": "markdown",
   "id": "f6df0f7f",
   "metadata": {},
   "source": [
    "### <span style='color:#ff5f27'>  🧙🏼‍♂️ Parsing PM2.5 data"
   ]
  },
  {
   "cell_type": "code",
   "execution_count": 37,
   "id": "cc68ab56",
   "metadata": {
    "scrolled": true,
    "tags": []
   },
   "outputs": [
    {
     "name": "stdout",
     "output_type": "stream",
     "text": [
      "Processed PM2_5 for Amsterdam since 2023-04-11 till 2024-03-21.\n",
      "Took 4.23 sec.\n",
      "\n",
      "Processed PM2_5 for Athina since 2023-04-11 till 2024-03-21.\n",
      "Took 3.26 sec.\n",
      "\n",
      "Processed PM2_5 for Berlin since 2023-04-11 till 2024-03-21.\n",
      "Took 2.95 sec.\n",
      "\n",
      "Processed PM2_5 for Gdansk since 2023-04-11 till 2024-03-21.\n",
      "Took 3.46 sec.\n",
      "\n",
      "Processed PM2_5 for Kraków since 2023-04-11 till 2024-03-21.\n",
      "Took 6.6 sec.\n",
      "\n",
      "Processed PM2_5 for London since 2023-04-11 till 2024-03-21.\n",
      "Took 4.17 sec.\n",
      "\n",
      "Processed PM2_5 for Madrid since 2023-04-11 till 2024-03-21.\n",
      "Took 2.02 sec.\n",
      "\n",
      "Processed PM2_5 for Marseille since 2023-04-11 till 2024-03-21.\n",
      "Took 3.0 sec.\n",
      "\n",
      "Processed PM2_5 for Milano since 2023-04-11 till 2024-03-21.\n",
      "Took 1.84 sec.\n",
      "\n",
      "Processed PM2_5 for München since 2023-04-11 till 2024-03-21.\n",
      "Took 3.57 sec.\n",
      "\n",
      "Processed PM2_5 for Napoli since 2023-04-11 till 2024-03-21.\n",
      "Took 5.49 sec.\n",
      "\n",
      "Processed PM2_5 for Paris since 2023-04-11 till 2024-03-21.\n",
      "Took 1.09 sec.\n",
      "\n",
      "Processed PM2_5 for Sevilla since 2023-04-11 till 2024-03-21.\n",
      "Took 3.47 sec.\n",
      "\n",
      "Processed PM2_5 for Stockholm since 2023-04-11 till 2024-03-21.\n",
      "Took 2.36 sec.\n",
      "\n",
      "Processed PM2_5 for Tallinn since 2023-04-11 till 2024-03-21.\n",
      "Took 3.74 sec.\n",
      "\n",
      "Processed PM2_5 for Varna since 2022-08-02 till 2024-03-21.\n",
      "Took 5.11 sec.\n",
      "\n",
      "Processed PM2_5 for Wien since 2023-04-11 till 2024-03-21.\n",
      "Took 4.1 sec.\n",
      "\n",
      "Processed PM2_5 for Albuquerque since 2022-12-31 till 2024-03-21.\n",
      "Took 2.58 sec.\n",
      "\n",
      "Processed PM2_5 for Atlanta since 2022-12-31 till 2024-03-21.\n",
      "Took 4.82 sec.\n",
      "\n",
      "Processed PM2_5 for Chicago since 2022-12-31 till 2024-03-21.\n",
      "Took 2.35 sec.\n",
      "\n",
      "Processed PM2_5 for Columbus since 2022-12-31 till 2024-03-21.\n",
      "Took 3.92 sec.\n",
      "\n",
      "Processed PM2_5 for Dallas since 2022-12-31 till 2024-03-21.\n",
      "Took 5.46 sec.\n",
      "\n",
      "Processed PM2_5 for Denver since 2022-12-31 till 2024-03-21.\n",
      "Took 4.16 sec.\n",
      "\n",
      "Processed PM2_5 for Houston since 2022-12-31 till 2024-03-21.\n",
      "Took 1.69 sec.\n",
      "\n",
      "Processed PM2_5 for Los Angeles since 2022-12-31 till 2024-03-21.\n",
      "Took 1.73 sec.\n",
      "\n",
      "Processed PM2_5 for New York since 2022-12-31 till 2024-03-21.\n",
      "Took 1.82 sec.\n",
      "\n",
      "Processed PM2_5 for Phoenix-Mesa since 2022-12-31 till 2024-03-21.\n",
      "Took 3.12 sec.\n",
      "\n",
      "Processed PM2_5 for Salt Lake City since 2022-12-31 till 2024-03-21.\n",
      "Took 0.95 sec.\n",
      "\n",
      "Processed PM2_5 for San Francisco since 2022-12-31 till 2024-03-21.\n",
      "Took 5.75 sec.\n",
      "\n",
      "Processed PM2_5 for Tampa since 2022-12-31 till 2024-03-21.\n",
      "Took 4.44 sec.\n",
      "\n",
      "Processed PM2_5 for Bellevue-SE 12th St since 2023-04-03 till 2024-03-21.\n",
      "Took 1.1 sec.\n",
      "\n",
      "Processed PM2_5 for DARRINGTON - FIR ST (Darrington High School) since 2023-04-03 till 2024-03-21.\n",
      "Took 2.08 sec.\n",
      "\n",
      "Processed PM2_5 for KENT - JAMES & CENTRAL since 2023-04-03 till 2024-03-21.\n",
      "Took 2.71 sec.\n",
      "\n",
      "Processed PM2_5 for LAKE FOREST PARK TOWNE CENTER since 2023-04-03 till 2024-03-21.\n",
      "Took 2.31 sec.\n",
      "\n",
      "Processed PM2_5 for MARYSVILLE - 7TH AVE (Marysville Junior High) since 2023-04-03 till 2024-03-21.\n",
      "Took 3.14 sec.\n",
      "\n",
      "Processed PM2_5 for NORTH BEND - NORTH BEND WAY since 2023-04-03 till 2024-03-21.\n",
      "Took 2.35 sec.\n",
      "\n",
      "Processed PM2_5 for SEATTLE - BEACON HILL since 2023-04-03 till 2024-03-21.\n",
      "Took 4.06 sec.\n",
      "\n",
      "Processed PM2_5 for SEATTLE - DUWAMISH since 2023-04-03 till 2024-03-21.\n",
      "Took 1.05 sec.\n",
      "\n",
      "Processed PM2_5 for SEATTLE - SOUTH PARK #2 since 2023-04-03 till 2024-03-21.\n",
      "Took 1.38 sec.\n",
      "\n",
      "Processed PM2_5 for Seattle-10th & Weller since 2023-04-03 till 2024-03-21.\n",
      "Took 3.26 sec.\n",
      "\n",
      "Processed PM2_5 for TACOMA - ALEXANDER AVE since 2023-04-02 till 2024-03-21.\n",
      "Took 2.22 sec.\n",
      "\n",
      "Processed PM2_5 for TACOMA - L STREET since 2023-04-03 till 2024-03-21.\n",
      "Took 2.38 sec.\n",
      "\n",
      "Processed PM2_5 for Tacoma-S 36th St since 2023-04-03 till 2024-03-21.\n",
      "Took 1.36 sec.\n",
      "\n",
      "Processed PM2_5 for Tukwila Allentown since 2023-04-03 till 2024-03-21.\n",
      "Took 4.09 sec.\n",
      "\n",
      "Processed PM2_5 for Tulalip-Totem Beach Rd since 2023-04-03 till 2024-03-21.\n",
      "Took 3.0 sec.\n",
      "\n",
      "----------------------------------------------------------------\n",
      "Parsed new PM2.5 data for ALL locations up to 2024-03-21.\n",
      "Took 140.45 sec.\n",
      "\n"
     ]
    }
   ],
   "source": [
    "# Storing the current time as the start time of the cell execution\n",
    "start_of_cell = time.time()\n",
    "\n",
    "# Creating an empty DataFrame to store raw air quality data\n",
    "df_aq_raw = pd.DataFrame()\n",
    "\n",
    "# Iterating through continents and cities in the 'target_cities' dictionary\n",
    "for continent in target_cities:\n",
    "    for city_name, coords in target_cities[continent].items():\n",
    "        # Retrieving air quality data using the 'get_aqi_data_from_open_meteo' function\n",
    "        # with specified parameters such as city name, coordinates, start date, and end date\n",
    "        df_ = get_aqi_data_from_open_meteo(\n",
    "            city_name=city_name,\n",
    "            coordinates=coords,\n",
    "            start_date=last_dates_aq[city_name],\n",
    "            end_date=str(today)\n",
    "        )\n",
    "        \n",
    "        # Concatenating the retrieved data with the existing 'df_aq_raw' DataFrame\n",
    "        # and resetting the index to ensure proper alignment\n",
    "        df_aq_raw = pd.concat([df_aq_raw, df_]).reset_index(drop=True)\n",
    "\n",
    "# Storing the current time as the end time of the cell execution\n",
    "end_of_cell = time.time()\n",
    "\n",
    "# Printing information about the execution, including the time taken\n",
    "print(\"-\" * 64)\n",
    "print(f\"Parsed new PM2.5 data for ALL locations up to {str(today)}.\")\n",
    "print(f\"Took {round(end_of_cell - start_of_cell, 2)} sec.\\n\")"
   ]
  },
  {
   "cell_type": "code",
   "execution_count": 38,
   "id": "09db1460",
   "metadata": {},
   "outputs": [
    {
     "data": {
      "text/html": [
       "<div>\n",
       "<style scoped>\n",
       "    .dataframe tbody tr th:only-of-type {\n",
       "        vertical-align: middle;\n",
       "    }\n",
       "\n",
       "    .dataframe tbody tr th {\n",
       "        vertical-align: top;\n",
       "    }\n",
       "\n",
       "    .dataframe thead th {\n",
       "        text-align: right;\n",
       "    }\n",
       "</style>\n",
       "<table border=\"1\" class=\"dataframe\">\n",
       "  <thead>\n",
       "    <tr style=\"text-align: right;\">\n",
       "      <th></th>\n",
       "      <th>city_name</th>\n",
       "      <th>date</th>\n",
       "      <th>pm2_5</th>\n",
       "    </tr>\n",
       "  </thead>\n",
       "  <tbody>\n",
       "    <tr>\n",
       "      <th>17253</th>\n",
       "      <td>Tulalip-Totem Beach Rd</td>\n",
       "      <td>2024-03-19</td>\n",
       "      <td>7.8</td>\n",
       "    </tr>\n",
       "    <tr>\n",
       "      <th>17254</th>\n",
       "      <td>Tulalip-Totem Beach Rd</td>\n",
       "      <td>2024-03-20</td>\n",
       "      <td>9.6</td>\n",
       "    </tr>\n",
       "    <tr>\n",
       "      <th>17255</th>\n",
       "      <td>Tulalip-Totem Beach Rd</td>\n",
       "      <td>2024-03-21</td>\n",
       "      <td>8.8</td>\n",
       "    </tr>\n",
       "  </tbody>\n",
       "</table>\n",
       "</div>"
      ],
      "text/plain": [
       "                    city_name        date  pm2_5\n",
       "17253  Tulalip-Totem Beach Rd  2024-03-19    7.8\n",
       "17254  Tulalip-Totem Beach Rd  2024-03-20    9.6\n",
       "17255  Tulalip-Totem Beach Rd  2024-03-21    8.8"
      ]
     },
     "execution_count": 38,
     "metadata": {},
     "output_type": "execute_result"
    }
   ],
   "source": [
    "df_aq_raw.tail(3)"
   ]
  },
  {
   "cell_type": "markdown",
   "id": "7cbabf34",
   "metadata": {
    "tags": []
   },
   "source": [
    "### <span style=\"color:#ff5f27;\">🛠 Feature Engineering PM2.5</span>"
   ]
  },
  {
   "cell_type": "code",
   "execution_count": 39,
   "id": "100f0f2d",
   "metadata": {
    "tags": []
   },
   "outputs": [],
   "source": [
    "# Converting the 'date' column in the 'df_aq_update' DataFrame to datetime format\n",
    "df_aq_raw['date'] = pd.to_datetime(df_aq_raw['date'])"
   ]
  },
  {
   "cell_type": "code",
   "execution_count": 40,
   "id": "91ded83e",
   "metadata": {
    "tags": []
   },
   "outputs": [
    {
     "data": {
      "text/html": [
       "<div>\n",
       "<style scoped>\n",
       "    .dataframe tbody tr th:only-of-type {\n",
       "        vertical-align: middle;\n",
       "    }\n",
       "\n",
       "    .dataframe tbody tr th {\n",
       "        vertical-align: top;\n",
       "    }\n",
       "\n",
       "    .dataframe thead th {\n",
       "        text-align: right;\n",
       "    }\n",
       "</style>\n",
       "<table border=\"1\" class=\"dataframe\">\n",
       "  <thead>\n",
       "    <tr style=\"text-align: right;\">\n",
       "      <th></th>\n",
       "      <th>city_name</th>\n",
       "      <th>date</th>\n",
       "      <th>pm2_5</th>\n",
       "      <th>pm_2_5_previous_1_day</th>\n",
       "      <th>pm_2_5_previous_2_day</th>\n",
       "      <th>pm_2_5_previous_3_day</th>\n",
       "      <th>pm_2_5_previous_4_day</th>\n",
       "      <th>pm_2_5_previous_5_day</th>\n",
       "      <th>pm_2_5_previous_6_day</th>\n",
       "      <th>pm_2_5_previous_7_day</th>\n",
       "      <th>...</th>\n",
       "      <th>exp_std_28_days</th>\n",
       "      <th>year</th>\n",
       "      <th>day_of_month</th>\n",
       "      <th>month</th>\n",
       "      <th>day_of_week</th>\n",
       "      <th>is_weekend</th>\n",
       "      <th>sin_day_of_year</th>\n",
       "      <th>cos_day_of_year</th>\n",
       "      <th>sin_day_of_week</th>\n",
       "      <th>cos_day_of_week</th>\n",
       "    </tr>\n",
       "  </thead>\n",
       "  <tbody>\n",
       "    <tr>\n",
       "      <th>17253</th>\n",
       "      <td>Los Angeles</td>\n",
       "      <td>2024-03-21</td>\n",
       "      <td>33.5</td>\n",
       "      <td>34.0</td>\n",
       "      <td>25.5</td>\n",
       "      <td>20.8</td>\n",
       "      <td>28.0</td>\n",
       "      <td>21.5</td>\n",
       "      <td>15.1</td>\n",
       "      <td>12.7</td>\n",
       "      <td>...</td>\n",
       "      <td>8.099297</td>\n",
       "      <td>2024</td>\n",
       "      <td>21</td>\n",
       "      <td>3</td>\n",
       "      <td>3</td>\n",
       "      <td>0</td>\n",
       "      <td>0.984474</td>\n",
       "      <td>0.175531</td>\n",
       "      <td>0.433884</td>\n",
       "      <td>-0.900969</td>\n",
       "    </tr>\n",
       "    <tr>\n",
       "      <th>17254</th>\n",
       "      <td>Milano</td>\n",
       "      <td>2024-03-21</td>\n",
       "      <td>45.3</td>\n",
       "      <td>38.5</td>\n",
       "      <td>46.4</td>\n",
       "      <td>27.7</td>\n",
       "      <td>43.4</td>\n",
       "      <td>23.6</td>\n",
       "      <td>16.8</td>\n",
       "      <td>46.6</td>\n",
       "      <td>...</td>\n",
       "      <td>21.733977</td>\n",
       "      <td>2024</td>\n",
       "      <td>21</td>\n",
       "      <td>3</td>\n",
       "      <td>3</td>\n",
       "      <td>0</td>\n",
       "      <td>0.984474</td>\n",
       "      <td>0.175531</td>\n",
       "      <td>0.433884</td>\n",
       "      <td>-0.900969</td>\n",
       "    </tr>\n",
       "    <tr>\n",
       "      <th>17255</th>\n",
       "      <td>Kraków</td>\n",
       "      <td>2024-03-21</td>\n",
       "      <td>75.3</td>\n",
       "      <td>59.8</td>\n",
       "      <td>34.4</td>\n",
       "      <td>17.0</td>\n",
       "      <td>13.1</td>\n",
       "      <td>22.6</td>\n",
       "      <td>56.8</td>\n",
       "      <td>57.3</td>\n",
       "      <td>...</td>\n",
       "      <td>16.678522</td>\n",
       "      <td>2024</td>\n",
       "      <td>21</td>\n",
       "      <td>3</td>\n",
       "      <td>3</td>\n",
       "      <td>0</td>\n",
       "      <td>0.984474</td>\n",
       "      <td>0.175531</td>\n",
       "      <td>0.433884</td>\n",
       "      <td>-0.900969</td>\n",
       "    </tr>\n",
       "  </tbody>\n",
       "</table>\n",
       "<p>3 rows × 31 columns</p>\n",
       "</div>"
      ],
      "text/plain": [
       "         city_name       date  pm2_5  pm_2_5_previous_1_day  \\\n",
       "17253  Los Angeles 2024-03-21   33.5                   34.0   \n",
       "17254       Milano 2024-03-21   45.3                   38.5   \n",
       "17255       Kraków 2024-03-21   75.3                   59.8   \n",
       "\n",
       "       pm_2_5_previous_2_day  pm_2_5_previous_3_day  pm_2_5_previous_4_day  \\\n",
       "17253                   25.5                   20.8                   28.0   \n",
       "17254                   46.4                   27.7                   43.4   \n",
       "17255                   34.4                   17.0                   13.1   \n",
       "\n",
       "       pm_2_5_previous_5_day  pm_2_5_previous_6_day  pm_2_5_previous_7_day  \\\n",
       "17253                   21.5                   15.1                   12.7   \n",
       "17254                   23.6                   16.8                   46.6   \n",
       "17255                   22.6                   56.8                   57.3   \n",
       "\n",
       "       ...  exp_std_28_days  year  day_of_month  month  day_of_week  \\\n",
       "17253  ...         8.099297  2024            21      3            3   \n",
       "17254  ...        21.733977  2024            21      3            3   \n",
       "17255  ...        16.678522  2024            21      3            3   \n",
       "\n",
       "       is_weekend  sin_day_of_year  cos_day_of_year  sin_day_of_week  \\\n",
       "17253           0         0.984474         0.175531         0.433884   \n",
       "17254           0         0.984474         0.175531         0.433884   \n",
       "17255           0         0.984474         0.175531         0.433884   \n",
       "\n",
       "       cos_day_of_week  \n",
       "17253        -0.900969  \n",
       "17254        -0.900969  \n",
       "17255        -0.900969  \n",
       "\n",
       "[3 rows x 31 columns]"
      ]
     },
     "execution_count": 40,
     "metadata": {},
     "output_type": "execute_result"
    }
   ],
   "source": [
    "# Applying a feature engineering function 'feature_engineer_aq' to the 'df_aq_update' DataFrame\n",
    "df_aq_update = air_quality.feature_engineer_aq(df_aq_raw)\n",
    "\n",
    "# Dropping rows with missing values in the 'df_aq_update' DataFrame\n",
    "df_aq_update = df_aq_update.dropna()\n",
    "\n",
    "df_aq_update.tail(3)"
   ]
  },
  {
   "cell_type": "code",
   "execution_count": 41,
   "id": "a387ac8a",
   "metadata": {},
   "outputs": [
    {
     "data": {
      "text/plain": [
       "0"
      ]
     },
     "execution_count": 41,
     "metadata": {},
     "output_type": "execute_result"
    }
   ],
   "source": [
    "# Checking the total number of missing values in the 'df_aq_update' DataFrame\n",
    "df_aq_update.isna().sum().sum()"
   ]
  },
  {
   "cell_type": "code",
   "execution_count": 42,
   "id": "bb4b8914",
   "metadata": {
    "tags": []
   },
   "outputs": [
    {
     "data": {
      "text/plain": [
       "(15994, 31)"
      ]
     },
     "execution_count": 42,
     "metadata": {},
     "output_type": "execute_result"
    }
   ],
   "source": [
    "# Retrieving the dimensions (number of rows and columns) of the 'df_aq_update' DataFrame\n",
    "df_aq_update.shape"
   ]
  },
  {
   "cell_type": "markdown",
   "id": "fe63cf55",
   "metadata": {},
   "source": [
    "## <span style='color:#ff5f27'> 🌦 Filling gaps in Weather data</span>"
   ]
  },
  {
   "cell_type": "code",
   "execution_count": 43,
   "id": "36a7388e",
   "metadata": {
    "tags": []
   },
   "outputs": [],
   "source": [
    "# Extracting the \"date\" and \"city_name\" columns from the 'df_weather' DataFrame\n",
    "# Grouping the data by \"city_name\" and finding the maximum date for each city\n",
    "last_dates_weather = df_weather[[\"date\", \"city_name\"]].groupby(\"city_name\").max()\n",
    "\n",
    "# Converting the date values to string format for consistency\n",
    "last_dates_weather.date = last_dates_weather.date.astype(str)\n",
    "\n",
    "# Creating a dictionary with city names as keys and their corresponding last updated date as values\n",
    "last_dates_weather = last_dates_weather.to_dict()[\"date\"]"
   ]
  },
  {
   "cell_type": "markdown",
   "id": "6c868dae",
   "metadata": {
    "tags": []
   },
   "source": [
    "### <span style='color:#ff5f27'>  🧙🏼‍♂️ Parsing Weather data"
   ]
  },
  {
   "cell_type": "code",
   "execution_count": 44,
   "id": "0ad03c2d",
   "metadata": {
    "scrolled": true,
    "tags": []
   },
   "outputs": [
    {
     "name": "stdout",
     "output_type": "stream",
     "text": [
      "Parsed weather for Amsterdam since 2023-04-13 till 2024-03-21.\n",
      "Took 3.76 sec.\n",
      "\n",
      "Parsed weather for Athina since 2023-04-13 till 2024-03-21.\n",
      "Took 5.54 sec.\n",
      "\n",
      "Parsed weather for Berlin since 2023-04-13 till 2024-03-21.\n",
      "Took 3.39 sec.\n",
      "\n",
      "Parsed weather for Gdansk since 2023-04-13 till 2024-03-21.\n",
      "Took 3.31 sec.\n",
      "\n",
      "Parsed weather for Kraków since 2023-04-13 till 2024-03-21.\n",
      "Took 2.83 sec.\n",
      "\n",
      "Parsed weather for London since 2023-04-13 till 2024-03-21.\n",
      "Took 2.99 sec.\n",
      "\n",
      "Parsed weather for Madrid since 2023-04-13 till 2024-03-21.\n",
      "Took 3.65 sec.\n",
      "\n",
      "Parsed weather for Marseille since 2023-04-13 till 2024-03-21.\n",
      "Took 3.13 sec.\n",
      "\n",
      "Parsed weather for Milano since 2023-04-13 till 2024-03-21.\n",
      "Took 3.02 sec.\n",
      "\n",
      "Parsed weather for München since 2023-04-13 till 2024-03-21.\n",
      "Took 3.06 sec.\n",
      "\n",
      "Parsed weather for Napoli since 2023-04-13 till 2024-03-21.\n",
      "Took 3.01 sec.\n",
      "\n",
      "Parsed weather for Paris since 2023-04-13 till 2024-03-21.\n",
      "Took 2.86 sec.\n",
      "\n",
      "Parsed weather for Sevilla since 2023-04-13 till 2024-03-21.\n",
      "Took 2.82 sec.\n",
      "\n",
      "Parsed weather for Stockholm since 2023-04-13 till 2024-03-21.\n",
      "Took 3.51 sec.\n",
      "\n",
      "Parsed weather for Tallinn since 2023-04-13 till 2024-03-21.\n",
      "Took 2.85 sec.\n",
      "\n",
      "Parsed weather for Varna since 2023-04-13 till 2024-03-21.\n",
      "Took 2.74 sec.\n",
      "\n",
      "Parsed weather for Wien since 2023-04-13 till 2024-03-21.\n",
      "Took 2.64 sec.\n",
      "\n",
      "Parsed weather for Albuquerque since 2023-04-13 till 2024-03-21.\n",
      "Took 3.21 sec.\n",
      "\n",
      "Parsed weather for Atlanta since 2023-04-13 till 2024-03-21.\n",
      "Took 2.92 sec.\n",
      "\n",
      "Parsed weather for Chicago since 2023-04-13 till 2024-03-21.\n",
      "Took 3.01 sec.\n",
      "\n",
      "Parsed weather for Columbus since 2023-04-13 till 2024-03-21.\n",
      "Took 2.95 sec.\n",
      "\n",
      "Parsed weather for Dallas since 2023-04-13 till 2024-03-21.\n",
      "Took 2.95 sec.\n",
      "\n",
      "Parsed weather for Denver since 2023-04-13 till 2024-03-21.\n",
      "Took 2.88 sec.\n",
      "\n",
      "Parsed weather for Houston since 2023-04-13 till 2024-03-21.\n",
      "Took 2.99 sec.\n",
      "\n",
      "Parsed weather for Los Angeles since 2023-04-13 till 2024-03-21.\n",
      "Took 2.84 sec.\n",
      "\n",
      "Parsed weather for New York since 2023-04-13 till 2024-03-21.\n",
      "Took 2.89 sec.\n",
      "\n",
      "Parsed weather for Phoenix-Mesa since 2023-04-13 till 2024-03-21.\n",
      "Took 2.6 sec.\n",
      "\n",
      "Parsed weather for Salt Lake City since 2023-04-13 till 2024-03-21.\n",
      "Took 2.82 sec.\n",
      "\n",
      "Parsed weather for San Francisco since 2023-04-13 till 2024-03-21.\n",
      "Took 3.0 sec.\n",
      "\n",
      "Parsed weather for Tampa since 2023-04-13 till 2024-03-21.\n",
      "Took 2.94 sec.\n",
      "\n",
      "Parsed weather for Bellevue-SE 12th St since 2023-04-13 till 2024-03-21.\n",
      "Took 2.9 sec.\n",
      "\n",
      "Parsed weather for DARRINGTON - FIR ST (Darrington High School) since 2023-04-13 till 2024-03-21.\n",
      "Took 2.87 sec.\n",
      "\n",
      "Parsed weather for KENT - JAMES & CENTRAL since 2023-04-13 till 2024-03-21.\n",
      "Took 2.75 sec.\n",
      "\n",
      "Parsed weather for LAKE FOREST PARK TOWNE CENTER since 2023-04-13 till 2024-03-21.\n",
      "Took 2.61 sec.\n",
      "\n",
      "Parsed weather for MARYSVILLE - 7TH AVE (Marysville Junior High) since 2023-04-13 till 2024-03-21.\n",
      "Took 2.6 sec.\n",
      "\n",
      "Parsed weather for NORTH BEND - NORTH BEND WAY since 2023-04-13 till 2024-03-21.\n",
      "Took 2.62 sec.\n",
      "\n",
      "Parsed weather for SEATTLE - BEACON HILL since 2023-04-13 till 2024-03-21.\n",
      "Took 2.61 sec.\n",
      "\n",
      "Parsed weather for SEATTLE - DUWAMISH since 2023-04-13 till 2024-03-21.\n",
      "Took 2.62 sec.\n",
      "\n",
      "Parsed weather for SEATTLE - SOUTH PARK #2 since 2023-04-13 till 2024-03-21.\n",
      "Took 2.61 sec.\n",
      "\n",
      "Parsed weather for Seattle-10th & Weller since 2023-04-13 till 2024-03-21.\n",
      "Took 2.61 sec.\n",
      "\n",
      "Parsed weather for TACOMA - ALEXANDER AVE since 2023-04-13 till 2024-03-21.\n",
      "Took 2.71 sec.\n",
      "\n",
      "Parsed weather for TACOMA - L STREET since 2023-04-13 till 2024-03-21.\n",
      "Took 2.63 sec.\n",
      "\n",
      "Parsed weather for Tacoma-S 36th St since 2023-04-13 till 2024-03-21.\n",
      "Took 2.62 sec.\n",
      "\n",
      "Parsed weather for Tukwila Allentown since 2023-04-13 till 2024-03-21.\n",
      "Took 2.6 sec.\n",
      "\n",
      "Parsed weather for Tulalip-Totem Beach Rd since 2023-04-13 till 2024-03-21.\n",
      "Took 2.64 sec.\n",
      "\n",
      "----------------------------------------------------------------\n",
      "Parsed new weather data for ALL cities up to 2024-03-21.\n",
      "Took 133.6 sec.\n",
      "\n"
     ]
    }
   ],
   "source": [
    "# Storing the current time as the start time of the cell execution\n",
    "start_of_cell = time.time()\n",
    "\n",
    "# Creating an empty DataFrame to store raw weather data\n",
    "df_weather_update = pd.DataFrame()\n",
    "\n",
    "# Iterating through continents and cities in the 'target_cities' dictionary\n",
    "for continent in target_cities:\n",
    "    for city_name, coords in target_cities[continent].items():\n",
    "        # Retrieving weather data using the 'get_weather_data_from_open_meteo' function\n",
    "        # with specified parameters such as city name, coordinates, start date, end date, and forecast flag\n",
    "        df_ = get_weather_data_from_open_meteo(\n",
    "            city_name=city_name,\n",
    "            coordinates=coords,\n",
    "            start_date=last_dates_weather[city_name],\n",
    "            end_date=str(today),\n",
    "            forecast=True,\n",
    "        )\n",
    "        \n",
    "        # Concatenating the retrieved data with the existing 'df_weather_update' DataFrame\n",
    "        # and resetting the index to ensure proper alignment\n",
    "        df_weather_update = pd.concat([df_weather_update, df_]).reset_index(drop=True)\n",
    "\n",
    "# Dropping rows with missing values in the 'df_weather_update' DataFrame\n",
    "df_weather_update.dropna(inplace=True)\n",
    "\n",
    "# Storing the current time as the end time of the cell execution\n",
    "end_of_cell = time.time()\n",
    "\n",
    "# Printing information about the execution, including the time taken\n",
    "print(\"-\" * 64)\n",
    "print(f\"Parsed new weather data for ALL cities up to {str(today)}.\")\n",
    "print(f\"Took {round(end_of_cell - start_of_cell, 2)} sec.\\n\")"
   ]
  },
  {
   "cell_type": "code",
   "execution_count": 45,
   "id": "de4d4870",
   "metadata": {
    "tags": []
   },
   "outputs": [],
   "source": [
    "# Converting the 'date' column in the 'df_aq_update' DataFrame to datetime format\n",
    "df_aq_update.date = pd.to_datetime(df_aq_update.date)\n",
    "\n",
    "# Converting the 'date' column in the 'df_weather_update' DataFrame to datetime format\n",
    "df_weather_update.date = pd.to_datetime(df_weather_update.date)\n",
    "\n",
    "# Creating a new column 'unix_time' in 'df_aq_update' by applying the 'convert_date_to_unix' function\n",
    "df_aq_update[\"unix_time\"] = df_aq_update[\"date\"].apply(convert_date_to_unix)\n",
    "\n",
    "# Creating a new column 'unix_time' in 'df_weather_update' by applying the 'convert_date_to_unix' function\n",
    "df_weather_update[\"unix_time\"] = df_weather_update[\"date\"].apply(convert_date_to_unix)"
   ]
  },
  {
   "cell_type": "code",
   "execution_count": 46,
   "id": "82d7bc88",
   "metadata": {
    "tags": []
   },
   "outputs": [
    {
     "data": {
      "text/html": [
       "<div>\n",
       "<style scoped>\n",
       "    .dataframe tbody tr th:only-of-type {\n",
       "        vertical-align: middle;\n",
       "    }\n",
       "\n",
       "    .dataframe tbody tr th {\n",
       "        vertical-align: top;\n",
       "    }\n",
       "\n",
       "    .dataframe thead th {\n",
       "        text-align: right;\n",
       "    }\n",
       "</style>\n",
       "<table border=\"1\" class=\"dataframe\">\n",
       "  <thead>\n",
       "    <tr style=\"text-align: right;\">\n",
       "      <th></th>\n",
       "      <th>city_name</th>\n",
       "      <th>date</th>\n",
       "      <th>temperature_max</th>\n",
       "      <th>temperature_min</th>\n",
       "      <th>precipitation_sum</th>\n",
       "      <th>rain_sum</th>\n",
       "      <th>snowfall_sum</th>\n",
       "      <th>precipitation_hours</th>\n",
       "      <th>wind_speed_max</th>\n",
       "      <th>wind_gusts_max</th>\n",
       "      <th>wind_direction_dominant</th>\n",
       "      <th>unix_time</th>\n",
       "    </tr>\n",
       "  </thead>\n",
       "  <tbody>\n",
       "    <tr>\n",
       "      <th>15477</th>\n",
       "      <td>Tulalip-Totem Beach Rd</td>\n",
       "      <td>2024-03-19</td>\n",
       "      <td>17.7</td>\n",
       "      <td>5.1</td>\n",
       "      <td>0.0</td>\n",
       "      <td>0.0</td>\n",
       "      <td>0.0</td>\n",
       "      <td>0.0</td>\n",
       "      <td>8.8</td>\n",
       "      <td>18.4</td>\n",
       "      <td>345</td>\n",
       "      <td>1710795600000</td>\n",
       "    </tr>\n",
       "    <tr>\n",
       "      <th>15478</th>\n",
       "      <td>Tulalip-Totem Beach Rd</td>\n",
       "      <td>2024-03-20</td>\n",
       "      <td>17.1</td>\n",
       "      <td>7.2</td>\n",
       "      <td>0.0</td>\n",
       "      <td>0.0</td>\n",
       "      <td>0.0</td>\n",
       "      <td>0.0</td>\n",
       "      <td>12.6</td>\n",
       "      <td>28.4</td>\n",
       "      <td>190</td>\n",
       "      <td>1710882000000</td>\n",
       "    </tr>\n",
       "    <tr>\n",
       "      <th>15479</th>\n",
       "      <td>Tulalip-Totem Beach Rd</td>\n",
       "      <td>2024-03-21</td>\n",
       "      <td>13.7</td>\n",
       "      <td>6.8</td>\n",
       "      <td>0.4</td>\n",
       "      <td>0.6</td>\n",
       "      <td>0.0</td>\n",
       "      <td>1.0</td>\n",
       "      <td>12.1</td>\n",
       "      <td>22.7</td>\n",
       "      <td>159</td>\n",
       "      <td>1710968400000</td>\n",
       "    </tr>\n",
       "  </tbody>\n",
       "</table>\n",
       "</div>"
      ],
      "text/plain": [
       "                    city_name        date  temperature_max  temperature_min  \\\n",
       "15477  Tulalip-Totem Beach Rd  2024-03-19             17.7              5.1   \n",
       "15478  Tulalip-Totem Beach Rd  2024-03-20             17.1              7.2   \n",
       "15479  Tulalip-Totem Beach Rd  2024-03-21             13.7              6.8   \n",
       "\n",
       "       precipitation_sum  rain_sum  snowfall_sum  precipitation_hours  \\\n",
       "15477                0.0       0.0           0.0                  0.0   \n",
       "15478                0.0       0.0           0.0                  0.0   \n",
       "15479                0.4       0.6           0.0                  1.0   \n",
       "\n",
       "       wind_speed_max  wind_gusts_max  wind_direction_dominant      unix_time  \n",
       "15477             8.8            18.4                      345  1710795600000  \n",
       "15478            12.6            28.4                      190  1710882000000  \n",
       "15479            12.1            22.7                      159  1710968400000  "
      ]
     },
     "execution_count": 46,
     "metadata": {},
     "output_type": "execute_result"
    }
   ],
   "source": [
    "# Converting the 'date' column in the 'df_aq_update' DataFrame to string format\n",
    "df_aq_update.date = df_aq_update.date.astype(str)\n",
    "\n",
    "# Converting the 'wind_direction_dominant' column in the 'df_weather_update' DataFrame to integer format\n",
    "df_weather_update.wind_direction_dominant = df_weather_update.wind_direction_dominant.astype('int')\n",
    "\n",
    "# Converting the 'date' column in the 'df_weather_update' DataFrame to string format\n",
    "df_weather_update.date = df_weather_update.date.astype(str)\n",
    "df_weather_update.tail(3)"
   ]
  },
  {
   "cell_type": "markdown",
   "id": "7b5640f9",
   "metadata": {
    "tags": []
   },
   "source": [
    "## <span style=\"color:#ff5f27;\">⬆️ Uploading new data to the Feature Store</span>"
   ]
  },
  {
   "cell_type": "code",
   "execution_count": 47,
   "id": "fd72be07",
   "metadata": {},
   "outputs": [
    {
     "data": {
      "application/vnd.jupyter.widget-view+json": {
       "model_id": "8ebaeff106f1410288736a002e075008",
       "version_major": 2,
       "version_minor": 0
      },
      "text/plain": [
       "Uploading Dataframe: 0.00% |          | Rows 0/15994 | Elapsed Time: 00:00 | Remaining Time: ?"
      ]
     },
     "metadata": {},
     "output_type": "display_data"
    },
    {
     "name": "stdout",
     "output_type": "stream",
     "text": [
      "Launching job: air_quality_1_offline_fg_materialization\n",
      "Job started successfully, you can follow the progress at \n",
      "https://c.app.hopsworks.ai/p/22689/jobs/named/air_quality_1_offline_fg_materialization/executions\n"
     ]
    },
    {
     "data": {
      "text/plain": [
       "(<hsfs.core.job.Job at 0x15df1f400>, None)"
      ]
     },
     "execution_count": 47,
     "metadata": {},
     "output_type": "execute_result"
    }
   ],
   "source": [
    "# Insert new data\n",
    "air_quality_fg.insert(df_aq_update)"
   ]
  },
  {
   "cell_type": "code",
   "execution_count": 48,
   "id": "cdffe4a9",
   "metadata": {},
   "outputs": [
    {
     "data": {
      "application/vnd.jupyter.widget-view+json": {
       "model_id": "5a9bae06eb31422399aad03bde7aae76",
       "version_major": 2,
       "version_minor": 0
      },
      "text/plain": [
       "Uploading Dataframe: 0.00% |          | Rows 0/7335 | Elapsed Time: 00:00 | Remaining Time: ?"
      ]
     },
     "metadata": {},
     "output_type": "display_data"
    },
    {
     "name": "stdout",
     "output_type": "stream",
     "text": [
      "Launching job: weather_1_offline_fg_materialization\n",
      "Job started successfully, you can follow the progress at \n",
      "https://c.app.hopsworks.ai/p/22689/jobs/named/weather_1_offline_fg_materialization/executions\n"
     ]
    },
    {
     "data": {
      "text/plain": [
       "(<hsfs.core.job.Job at 0x15df40550>, None)"
      ]
     },
     "execution_count": 48,
     "metadata": {},
     "output_type": "execute_result"
    }
   ],
   "source": [
    "# Insert new data\n",
    "weather_fg.insert(df_weather_update)"
   ]
  },
  {
   "cell_type": "markdown",
   "id": "d03605ea",
   "metadata": {},
   "source": [
    "---\n",
    "## <span style=\"color:#ff5f27;\">⏭️ **Next:** Part 03: Training Pipeline\n",
    " </span> \n",
    "\n",
    "In the following notebook you will create a feature view, create a training dataset, train a model and save it in the Hopsworks Model Registry."
   ]
  }
 ],
 "metadata": {
  "kernelspec": {
   "display_name": "Python 3 (ipykernel)",
   "language": "python",
   "name": "python3"
  },
  "language_info": {
   "codemirror_mode": {
    "name": "ipython",
    "version": 3
   },
   "file_extension": ".py",
   "mimetype": "text/x-python",
   "name": "python",
   "nbconvert_exporter": "python",
   "pygments_lexer": "ipython3",
   "version": "3.10.12"
  },
  "vscode": {
   "interpreter": {
    "hash": "190ea7959a836f4799545ea0f3718ade3abee093b15861ffdc25233d6ab7050e"
   }
  }
 },
 "nbformat": 4,
 "nbformat_minor": 5
}
